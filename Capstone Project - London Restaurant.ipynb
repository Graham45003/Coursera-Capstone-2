{
    "cells": [
        {
            "cell_type": "markdown",
            "metadata": {},
            "source": "Capstone Project - The Battle of Neighbourhoods - London Restaurant\n\n1. Introduction\n\nBackground\n\nBeing an ex-chef I've always wanted to open a gluten-free restaurant in a major city long before 'free from' food became easily available in supermarkets.  Being a Coeliac its always been difficult to find a venue you can 'guarantee' the food produced is totally free from gluten.  This same problem also follows for anyone that has nut allergy or is lactose intolerant etc.\n\nEstimated at \u00a3934 million in 2019, the UK free-from food and drink retail market has enjoyed stellar growth over the past five years, more than doubling in value, supported by a raft of factors. The dairy-/lactose-free segment continued to outpace gluten-/ wheat-free in 2019, with sales estimated to reach \u00a3517 million and \u00a3416 million respectively. (source UK Free-From Foods Market Report https://store.mintel.com/uk-free-from-foods-market-report)\n\nProblem\n\nThe project will look at London, but avoiding central London as rent and rates will be too high, trying to find an area where there are food venues already, but none that specifically cater for the free from market.  Areas with existing food venues tend to become 'the area to go to' rather than being located in an obscure place just because there are no existing venues.\n\nI will also look at the property rental market for that area intending to show where the rents are more reasonable and cross reference this data with good locations.\n\n"
        },
        {
            "cell_type": "markdown",
            "metadata": {},
            "source": "2. Data retrieval and analysis\n\nBased on the problem, data needs to be sourced for:\n\u2022\tpostcode data for the London area excluding central London scraped from Wikipedia\n\u2022\tnumber of existing restaurants and locations using Foursquare API\n\u2022\tlocation of existing 'free-from' exclusive or 'free-from' serving venues using Foursquare API\n\u2022\tproperty rental data using Beautiful Soup taken from Zoopla or similar source\n\nThis data then needs to be displayed in either a Choropleth Map or with a Histogram to show the key areas to concentrate on.\n"
        }
    ],
    "metadata": {
        "kernelspec": {
            "display_name": "Python 3.6",
            "language": "python",
            "name": "python3"
        },
        "language_info": {
            "codemirror_mode": {
                "name": "ipython",
                "version": 3
            },
            "file_extension": ".py",
            "mimetype": "text/x-python",
            "name": "python",
            "nbconvert_exporter": "python",
            "pygments_lexer": "ipython3",
            "version": "3.6.9"
        }
    },
    "nbformat": 4,
    "nbformat_minor": 1
}